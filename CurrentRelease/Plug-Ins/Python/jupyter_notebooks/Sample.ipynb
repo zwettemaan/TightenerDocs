{
 "cells": [
  {
   "cell_type": "markdown",
   "id": "22480bd6",
   "metadata": {},
   "source": [
    "# Very Simple Sample\n",
    "Here, I type in a raw numerical value. This value is evaluated as itself"
   ]
  },
  {
   "cell_type": "code",
   "execution_count": 36,
   "id": "307e9e63",
   "metadata": {},
   "outputs": [
    {
     "name": "stdout",
     "output_type": "stream",
     "text": [
      "12\r\n"
     ]
    }
   ],
   "source": [
    "12"
   ]
  },
  {
   "cell_type": "markdown",
   "id": "e9ad594d",
   "metadata": {},
   "source": [
    "# Talking to the app on the other end\n",
    "We can query the app on the other end, and for example, ask for it's name."
   ]
  },
  {
   "cell_type": "code",
   "execution_count": 37,
   "id": "ec9ae412",
   "metadata": {},
   "outputs": [
    {
     "name": "stdout",
     "output_type": "stream",
     "text": [
      "Adobe InDesign Server\r\n"
     ]
    }
   ],
   "source": [
    "app.name"
   ]
  },
  {
   "cell_type": "markdown",
   "id": "bd7e13e5",
   "metadata": {},
   "source": [
    "# Doing Stuff\n",
    "Let's add a new document, and store a reference to it in the variable `d`"
   ]
  },
  {
   "cell_type": "code",
   "execution_count": 38,
   "id": "73283d53",
   "metadata": {},
   "outputs": [
    {
     "name": "stdout",
     "output_type": "stream",
     "text": [
      "undefined\r\n"
     ]
    }
   ],
   "source": [
    "var d = app.documents.add();"
   ]
  },
  {
   "cell_type": "code",
   "execution_count": 22,
   "id": "6df0665c",
   "metadata": {},
   "outputs": [
    {
     "name": "stdout",
     "output_type": "stream",
     "text": [
      "Untitled-1\r\n"
     ]
    }
   ],
   "source": [
    "d.name"
   ]
  },
  {
   "cell_type": "code",
   "execution_count": 23,
   "id": "cbc5bf5e",
   "metadata": {},
   "outputs": [
    {
     "name": "stdout",
     "output_type": "stream",
     "text": [
      "hello\r\n"
     ]
    }
   ],
   "source": [
    "d.name = \"hello\""
   ]
  },
  {
   "cell_type": "code",
   "execution_count": 24,
   "id": "8f226016",
   "metadata": {},
   "outputs": [
    {
     "name": "stdout",
     "output_type": "stream",
     "text": [
      "xxx\r\n"
     ]
    }
   ],
   "source": [
    "d.name = \"xxx\""
   ]
  },
  {
   "cell_type": "code",
   "execution_count": 25,
   "id": "375efde2",
   "metadata": {},
   "outputs": [
    {
     "name": "stdout",
     "output_type": "stream",
     "text": [
      "undefined\r\n"
     ]
    }
   ],
   "source": [
    "var tf = d.textFrames.add()"
   ]
  },
  {
   "cell_type": "code",
   "execution_count": 26,
   "id": "6f47a268",
   "metadata": {},
   "outputs": [
    {
     "name": "stdout",
     "output_type": "stream",
     "text": [
      "2053991795\r\n"
     ]
    }
   ],
   "source": [
    "d.viewPreferences.horizontalMeasurementUnits = MeasurementUnits.MILLIMETERS;"
   ]
  },
  {
   "cell_type": "code",
   "execution_count": 27,
   "id": "621b6575",
   "metadata": {},
   "outputs": [
    {
     "name": "stdout",
     "output_type": "stream",
     "text": [
      "2053991795\r\n"
     ]
    }
   ],
   "source": [
    "d.viewPreferences.verticalMeasurementUnits = MeasurementUnits.MILLIMETERS;"
   ]
  },
  {
   "cell_type": "code",
   "execution_count": 28,
   "id": "85f6d0dc",
   "metadata": {},
   "outputs": [
    {
     "name": "stdout",
     "output_type": "stream",
     "text": [
      "undefined\r\n"
     ]
    }
   ],
   "source": [
    "var offset = 15"
   ]
  },
  {
   "cell_type": "code",
   "execution_count": 29,
   "id": "a6233b09",
   "metadata": {},
   "outputs": [
    {
     "name": "stdout",
     "output_type": "stream",
     "text": [
      "15,15,115,115\r\n"
     ]
    }
   ],
   "source": [
    "tf.geometricBounds = [offset,offset, offset+100, offset+100]"
   ]
  },
  {
   "cell_type": "code",
   "execution_count": 30,
   "id": "01a96f8b",
   "metadata": {},
   "outputs": [
    {
     "name": "stdout",
     "output_type": "stream",
     "text": [
      "{  }\r\n"
     ]
    }
   ],
   "source": [
    "d.colors.add({name: \"MyColor\", colorValue: [0,0,255], model: ColorModel.PROCESS, space: ColorSpace.RGB })"
   ]
  },
  {
   "cell_type": "code",
   "execution_count": 31,
   "id": "76c27b82",
   "metadata": {},
   "outputs": [
    {
     "name": "stdout",
     "output_type": "stream",
     "text": [
      "MyColor\r\n"
     ]
    }
   ],
   "source": [
    "tf.fillColor = \"MyColor\""
   ]
  },
  {
   "cell_type": "code",
   "execution_count": 32,
   "id": "40ba7718",
   "metadata": {},
   "outputs": [
    {
     "name": "stdout",
     "output_type": "stream",
     "text": [
      "Black,C=0 M=0 Y=100 K=0,C=0 M=100 Y=0 K=0,C=100 M=0 Y=0 K=0,C=100 M=90 Y=10 K=0,C=15 M=100 Y=100 K=0,C=75 M=5 Y=100 K=0,Cyan,Magenta,MyColor,Paper,Registration,Yellow,,\r\n"
     ]
    }
   ],
   "source": [
    "d.colors.everyItem().name"
   ]
  },
  {
   "cell_type": "code",
   "execution_count": 33,
   "id": "130331a9",
   "metadata": {},
   "outputs": [
    {
     "name": "stdout",
     "output_type": "stream",
     "text": [
      "\r\n",
      "\r\n",
      "\r\n",
      "\r\n",
      "\r\n",
      "\r\n",
      "\r\n",
      "\r\n",
      "\r\n",
      "\r\n",
      "\r\n",
      "\r\n",
      "\r\n",
      "\r\n",
      "name: Black\r\n",
      "id: 11\r\n",
      "label: \r\n",
      "isValid: true\r\n",
      "index: 0\r\n",
      "isValid: true\r\n",
      "name: C=0 M=0 Y=100 K=0\r\n",
      "id: 18\r\n",
      "label: \r\n",
      "isValid: true\r\n",
      "index: 1\r\n",
      "isValid: true\r\n",
      "name: C=0 M=100 Y=0 K=0\r\n",
      "id: 19\r\n",
      "label: \r\n",
      "isValid: true\r\n",
      "index: 2\r\n",
      "isValid: true\r\n",
      "name: C=100 M=0 Y=0 K=0\r\n",
      "id: 20\r\n",
      "label: \r\n",
      "isValid: true\r\n",
      "index: 3\r\n",
      "isValid: true\r\n",
      "name: C=100 M=90 Y=10 K=0\r\n",
      "id: 21\r\n",
      "label: \r\n",
      "isValid: true\r\n",
      "index: 4\r\n",
      "isValid: true\r\n",
      "name: C=15 M=100 Y=100 K=0\r\n",
      "id: 22\r\n",
      "label: \r\n",
      "isValid: true\r\n",
      "index: 5\r\n",
      "isValid: true\r\n",
      "name: C=75 M=5 Y=100 K=0\r\n",
      "id: 23\r\n",
      "label: \r\n",
      "isValid: true\r\n",
      "index: 6\r\n",
      "isValid: true\r\n",
      "name: Cyan\r\n",
      "id: 12\r\n",
      "label: \r\n",
      "isValid: true\r\n",
      "index: 7\r\n",
      "isValid: true\r\n",
      "name: Magenta\r\n",
      "id: 13\r\n",
      "label: \r\n",
      "isValid: true\r\n",
      "index: 8\r\n",
      "isValid: true\r\n",
      "name: MyColor\r\n",
      "id: 249\r\n",
      "label: \r\n",
      "isValid: true\r\n",
      "index: 9\r\n",
      "isValid: true\r\n",
      "name: Paper\r\n",
      "id: 15\r\n",
      "label: \r\n",
      "isValid: true\r\n",
      "index: 10\r\n",
      "isValid: true\r\n",
      "name: Registration\r\n",
      "id: 16\r\n",
      "label: \r\n",
      "isValid: true\r\n",
      "index: 11\r\n",
      "isValid: true\r\n",
      "name: Yellow\r\n",
      "id: 17\r\n",
      "label: \r\n",
      "isValid: true\r\n",
      "index: 12\r\n",
      "isValid: true\r\n",
      "name: \r\n",
      "id: 152\r\n",
      "label: \r\n",
      "isValid: true\r\n",
      "index: 13\r\n",
      "isValid: true\r\n",
      "name: \r\n",
      "id: 154\r\n",
      "label: \r\n",
      "isValid: true\r\n",
      "index: 14\r\n",
      "isValid: true\r\n",
      "\r\n",
      "name: Black\r\n",
      "id: 11\r\n",
      "label: \r\n",
      "isValid: true\r\n",
      "index: 0\r\n",
      "isValid: true\r\n",
      "name: C=0 M=0 Y=100 K=0\r\n",
      "id: 18\r\n",
      "label: \r\n",
      "isValid: true\r\n",
      "index: 1\r\n",
      "isValid: true\r\n",
      "name: C=0 M=100 Y=0 K=0\r\n",
      "id: 19\r\n",
      "label: \r\n",
      "isValid: true\r\n",
      "index: 2\r\n",
      "isValid: true\r\n",
      "name: C=100 M=0 Y=0 K=0\r\n",
      "id: 20\r\n",
      "label: \r\n",
      "isValid: true\r\n",
      "index: 3\r\n",
      "isValid: true\r\n",
      "name: C=100 M=90 Y=10 K=0\r\n",
      "id: 21\r\n",
      "label: \r\n",
      "isValid: true\r\n",
      "index: 4\r\n",
      "isValid: true\r\n",
      "name: C=15 M=100 Y=100 K=0\r\n",
      "id: 22\r\n",
      "label: \r\n",
      "isValid: true\r\n",
      "index: 5\r\n",
      "isValid: true\r\n",
      "name: C=75 M=5 Y=100 K=0\r\n",
      "id: 23\r\n",
      "label: \r\n",
      "isValid: true\r\n",
      "index: 6\r\n",
      "isValid: true\r\n",
      "name: Cyan\r\n",
      "id: 12\r\n",
      "label: \r\n",
      "isValid: true\r\n",
      "index: 7\r\n",
      "isValid: true\r\n",
      "name: Magenta\r\n",
      "id: 13\r\n",
      "label: \r\n",
      "isValid: true\r\n",
      "index: 8\r\n",
      "isValid: true\r\n",
      "name: MyColor\r\n",
      "id: 249\r\n",
      "label: \r\n",
      "isValid: true\r\n",
      "index: 9\r\n",
      "isValid: true\r\n",
      "name: Paper\r\n",
      "id: 15\r\n",
      "label: \r\n",
      "isValid: true\r\n",
      "index: 10\r\n",
      "isValid: true\r\n",
      "name: Registration\r\n",
      "id: 16\r\n",
      "label: \r\n",
      "isValid: true\r\n",
      "index: 11\r\n",
      "isValid: true\r\n",
      "name: Yellow\r\n",
      "id: 17\r\n",
      "label: \r\n",
      "isValid: true\r\n",
      "index: 12\r\n",
      "isValid: true\r\n",
      "name: \r\n",
      "id: 152\r\n",
      "label: \r\n",
      "isValid: true\r\n",
      "index: 13\r\n",
      "isValid: true\r\n",
      "name: \r\n",
      "id: 154\r\n",
      "label: \r\n",
      "isValid: true\r\n",
      "index: 14\r\n",
      "isValid: true\r\n",
      "\r\n"
     ]
    }
   ],
   "source": [
    "info = \"\";\n",
    "for (var colorIdx = 0; colorIdx < d.colors.length; colorIdx++){\n",
    "    try {\n",
    "        var color = d.colors.item(colorIdx);\n",
    "        for (var attr in color) {\n",
    "           var value = color[attr];\n",
    "           var valueType = typeof value;\n",
    "           if (valueType != \"object\") {\n",
    "               info += attr + \": \" + value + \"\\n\";\n",
    "           }\n",
    "        }\n",
    "    }\n",
    "    catch (err) {    \n",
    "    }\n",
    "}\n",
    "info"
   ]
  },
  {
   "cell_type": "code",
   "execution_count": 34,
   "id": "ae2804f6",
   "metadata": {},
   "outputs": [
    {
     "name": "stdout",
     "output_type": "stream",
     "text": [
      "{  }\r\n"
     ]
    }
   ],
   "source": [
    "d.save(File(\"~/ownCloud/Tunnel_VMs/test.indd\"))"
   ]
  },
  {
   "cell_type": "code",
   "execution_count": 35,
   "id": "25f14c6b",
   "metadata": {},
   "outputs": [
    {
     "name": "stdout",
     "output_type": "stream",
     "text": [
      "undefined\r\n"
     ]
    }
   ],
   "source": [
    "d.close(SaveOptions.NO)"
   ]
  },
  {
   "cell_type": "code",
   "execution_count": null,
   "id": "d6a26d56",
   "metadata": {},
   "outputs": [],
   "source": []
  }
 ],
 "metadata": {
  "kernelspec": {
   "display_name": "TightenerJSX",
   "language": "",
   "name": "jsxreplwrapper"
  },
  "language_info": {
   "file_extension": ".jsx",
   "mimetype": "text/plain",
   "name": "TightenerJSX"
  }
 },
 "nbformat": 4,
 "nbformat_minor": 5
}
